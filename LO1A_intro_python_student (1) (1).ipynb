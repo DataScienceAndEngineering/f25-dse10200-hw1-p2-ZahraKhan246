{
  "cells": [
    {
      "cell_type": "markdown",
      "metadata": {
        "id": "OGaYbeeXOeWM"
      },
      "source": [
        "# DSE I1020 — Python Fundamentals (60 min)\n",
        "*Date:* 2025-09-08  \n",
        "*Use in:* Google Colab\n",
        "\n",
        "This live notebook alternates **instructions (Markdown)** and **code solutions**.  \n",
        "Estimated timing per section is shown in headers.\n",
        "\n",
        "\n",
        "**Note:** This is the **student version**. Code cells are intentionally blank—fill them in during class.\n"
      ],
      "id": "OGaYbeeXOeWM"
    },
    {
      "cell_type": "markdown",
      "metadata": {
        "id": "t_BnwhMEOeWN"
      },
      "source": [
        "## 0. Warm-up & Setup (≈3 min)\n"
      ],
      "id": "t_BnwhMEOeWN"
    },
    {
      "cell_type": "markdown",
      "metadata": {
        "id": "fGPHLlDxOeWO"
      },
      "source": [
        "**Do this:**  \n",
        "1. Run the next cell to verify Python and print a greeting.  \n",
        "2. If running in Colab, confirm you see output below the cell.\n"
      ],
      "id": "fGPHLlDxOeWO"
    },
    {
      "cell_type": "code",
      "execution_count": 1,
      "metadata": {
        "colab": {
          "base_uri": "https://localhost:8080/"
        },
        "id": "WyL7RHEcOeWO",
        "outputId": "161bebff-7a67-457a-f4aa-4533e3f1419f"
      },
      "outputs": [
        {
          "output_type": "stream",
          "name": "stdout",
          "text": [
            "Hello DSE, python verison\n"
          ]
        }
      ],
      "source": [
        "# TODO: implement based on the instructions above\n",
        "import sys\n",
        "print(\"Hello DSE, python verison\")"
      ],
      "id": "WyL7RHEcOeWO"
    },
    {
      "cell_type": "markdown",
      "metadata": {
        "id": "F1g0n9teOeWO"
      },
      "source": [
        "## 1. Variables & Naming (≈6 min)\n"
      ],
      "id": "F1g0n9teOeWO"
    },
    {
      "cell_type": "markdown",
      "metadata": {
        "id": "qujmYp1OOeWO"
      },
      "source": [
        "**Instruction:**  \n",
        "Create variables `course = \"DSE I1020\"`, `enrolled = 32`, `room = None`, and `is_monday = True`.  \n",
        "Then reassign `enrolled` to `enrolled + 3` and print a summary line using an f-string.\n"
      ],
      "id": "qujmYp1OOeWO"
    },
    {
      "cell_type": "code",
      "execution_count": 1,
      "metadata": {
        "colab": {
          "base_uri": "https://localhost:8080/"
        },
        "id": "YNtvzYgnOeWP",
        "outputId": "791f6a69-1dc5-4f5b-fbed-118f29d1ef58"
      },
      "outputs": [
        {
          "output_type": "stream",
          "name": "stdout",
          "text": [
            "Course: DSE I1020, Enrolled: 35, Room: None, Is Monday: True\n"
          ]
        }
      ],
      "source": [
        "# TODO: implement based on the instructions above\n",
        "course = \"DSE I1020\"\n",
        "enrolled = 32\n",
        "room = None\n",
        "is_monday = True\n",
        "enrolled = enrolled + 3\n",
        "print(f\"Course: {course}, Enrolled: {enrolled}, Room: {room}, Is Monday: {is_monday}\")"
      ],
      "id": "YNtvzYgnOeWP"
    },
    {
      "cell_type": "markdown",
      "metadata": {
        "id": "4UPCGzzCOeWP"
      },
      "source": [
        "## 2. Core Types (int, float, bool, str, None) (≈6 min)\n"
      ],
      "id": "4UPCGzzCOeWP"
    },
    {
      "cell_type": "markdown",
      "metadata": {
        "id": "6DcsLd1TOeWP"
      },
      "source": [
        "**Instruction:**  \n",
        "1. Make a list `vals = [42, 3.14, True, \"data\", None]`.  \n",
        "2. Loop through `vals` and print each value and its `type`.  \n",
        "3. Convert `3.14` to `int` and `\"123\"` to `int` and print results.\n"
      ],
      "id": "6DcsLd1TOeWP"
    },
    {
      "cell_type": "code",
      "execution_count": 10,
      "metadata": {
        "colab": {
          "base_uri": "https://localhost:8080/"
        },
        "id": "jxtOHE4XOeWP",
        "outputId": "80ba1f9f-e100-44af-998a-9354e5c52dc1"
      },
      "outputs": [
        {
          "output_type": "stream",
          "name": "stdout",
          "text": [
            "[(42, <class 'int'>), (3.14, <class 'float'>), (True, <class 'bool'>), ('data', <class 'str'>), (None, <class 'NoneType'>)]\n",
            "3 123\n"
          ]
        }
      ],
      "source": [
        "# TODO: implement based on the instructions above\n",
        "vals = [42, 3.14, True, \"data\", None]\n",
        "print([(val, type(val)) for val in vals])\n",
        "\n",
        "new_float = int(3.14)\n",
        "new_int = int(\"123\")\n",
        "print(new_float, new_int)\n"
      ],
      "id": "jxtOHE4XOeWP"
    },
    {
      "cell_type": "markdown",
      "metadata": {
        "id": "uJoAycCuOeWP"
      },
      "source": [
        "## 3. Operators (arithmetic, comparison, logical) (≈6 min)\n"
      ],
      "id": "uJoAycCuOeWP"
    },
    {
      "cell_type": "markdown",
      "metadata": {
        "id": "rqNWVBbdOeWP"
      },
      "source": [
        "**Instruction:**  \n",
        "Use variables `a = 7`, `b = 3`.  \n",
        "1. Compute and print: `a + b`, `a / b`, `a // b`, `a % b`, `a ** b`.  \n",
        "2. Show comparisons: `a > b`, `a == 7`, `b != 0`.  \n",
        "3. Use logical ops to check that `a > b and b > 0`.\n"
      ],
      "id": "rqNWVBbdOeWP"
    },
    {
      "cell_type": "code",
      "execution_count": 14,
      "metadata": {
        "colab": {
          "base_uri": "https://localhost:8080/"
        },
        "id": "KKZMeDVFOeWP",
        "outputId": "0c61e5c2-74f8-4e7e-81a7-c05b4a9b20fa"
      },
      "outputs": [
        {
          "output_type": "stream",
          "name": "stdout",
          "text": [
            "10\n",
            "2.3333333333333335\n",
            "2\n",
            "1\n",
            "343\n",
            "True\n",
            "True\n",
            "True\n",
            "True\n",
            "True\n"
          ]
        }
      ],
      "source": [
        "# TODO: implement based on the instructions above\n",
        "a =7\n",
        "b = 3\n",
        "print(a+b)\n",
        "print(a/b)\n",
        "print(a//b)\n",
        "print(a%b)\n",
        "print(a**b)\n",
        "print(a>b)\n",
        "print(a==7)\n",
        "print(b!=0)\n",
        "print(a>b)\n",
        "print(b>0)"
      ],
      "id": "KKZMeDVFOeWP"
    },
    {
      "cell_type": "markdown",
      "metadata": {
        "id": "PM9xZYI_OeWP"
      },
      "source": [
        "## 4. Conditionals: testing variable values (≈6 min)\n"
      ],
      "id": "PM9xZYI_OeWP"
    },
    {
      "cell_type": "markdown",
      "metadata": {
        "id": "HW1rLGlQOeWP"
      },
      "source": [
        "**Instruction:**  \n",
        "Write code that sets `x = 12`.  \n",
        "- If `x` is even, print `\"even\"`; otherwise print `\"odd\"`.  \n",
        "- Then print `\"multiple of 3\"` if true.\n"
      ],
      "id": "HW1rLGlQOeWP"
    },
    {
      "cell_type": "code",
      "execution_count": 15,
      "metadata": {
        "colab": {
          "base_uri": "https://localhost:8080/"
        },
        "id": "-JDTZlyAOeWP",
        "outputId": "a4a91c17-6318-4781-d5a9-b8b1808a88ab"
      },
      "outputs": [
        {
          "output_type": "stream",
          "name": "stdout",
          "text": [
            "even\n",
            "multiple of 3\n"
          ]
        }
      ],
      "source": [
        "# TODO: implement based on the instructions above\n",
        "x=12\n",
        "if x % 2 == 0:\n",
        "  print(\"even\")\n",
        "else:\n",
        "    print(\"odd\")\n",
        "if x % 3 == 0:\n",
        "  print(\"multiple of 3\")"
      ],
      "id": "-JDTZlyAOeWP"
    },
    {
      "cell_type": "markdown",
      "metadata": {
        "id": "0A4jkYpqOeWQ"
      },
      "source": [
        "## 5. Control Flow: if–elif–else (≈5 min)\n"
      ],
      "id": "0A4jkYpqOeWQ"
    },
    {
      "cell_type": "markdown",
      "metadata": {
        "id": "n9dhgfLqOeWQ"
      },
      "source": [
        "**Instruction:**  \n",
        "Given a numeric score `s`, print a letter grade using:  \n",
        "- A (>= 90), B (>= 80), C (>= 70), D (>= 60), else F.  \n",
        "Test with `s = 86`.\n"
      ],
      "id": "n9dhgfLqOeWQ"
    },
    {
      "cell_type": "code",
      "execution_count": 16,
      "metadata": {
        "colab": {
          "base_uri": "https://localhost:8080/"
        },
        "id": "uynT-sVyOeWQ",
        "outputId": "8a3034a2-160e-43bf-8fdd-c7d5c6c4993e"
      },
      "outputs": [
        {
          "output_type": "stream",
          "name": "stdout",
          "text": [
            "B\n"
          ]
        }
      ],
      "source": [
        "# TODO: implement based on the instructions above\n",
        "s = 86\n",
        "if s >= 90:\n",
        "  print(\"A\")\n",
        "elif s >= 80:\n",
        "  print(\"B\")\n",
        "elif s >= 70:\n",
        "  print(\"C\")\n",
        "elif s >= 60:\n",
        "  print(\"D\")\n",
        "else:\n",
        "  print(\"F\")"
      ],
      "id": "uynT-sVyOeWQ"
    },
    {
      "cell_type": "markdown",
      "metadata": {
        "id": "SbrmFH5NOeWQ"
      },
      "source": [
        "## 6. `while` Loops (≈6 min)\n"
      ],
      "id": "SbrmFH5NOeWQ"
    },
    {
      "cell_type": "markdown",
      "metadata": {
        "id": "yf25MzssOeWQ"
      },
      "source": [
        "**Instruction:**  \n",
        "Use a `while` loop to compute the **smallest** `n` such that the cumulative sum `1+2+…+n` exceeds 200.  \n",
        "Print `n` and the sum.\n"
      ],
      "id": "yf25MzssOeWQ"
    },
    {
      "cell_type": "code",
      "execution_count": 17,
      "metadata": {
        "colab": {
          "base_uri": "https://localhost:8080/"
        },
        "id": "IRFB0R76OeWQ",
        "outputId": "f6132c0a-f0b1-455f-c4f9-2a6d79de1b3d"
      },
      "outputs": [
        {
          "output_type": "stream",
          "name": "stdout",
          "text": [
            "1 1\n",
            "2 3\n",
            "3 6\n",
            "4 10\n",
            "5 15\n",
            "6 21\n",
            "7 28\n",
            "8 36\n",
            "9 45\n",
            "10 55\n",
            "11 66\n",
            "12 78\n",
            "13 91\n",
            "14 105\n",
            "15 120\n",
            "16 136\n",
            "17 153\n",
            "18 171\n",
            "19 190\n",
            "20 210\n"
          ]
        }
      ],
      "source": [
        "# TODO: implement based on the instructions above\n",
        "cum_num =0\n",
        "n = 0\n",
        "while cum_num < 200:\n",
        "  n += 1\n",
        "  cum_num += n\n",
        "  print(n, cum_num)"
      ],
      "id": "IRFB0R76OeWQ"
    },
    {
      "cell_type": "markdown",
      "metadata": {
        "id": "0PdtSFqVOeWQ"
      },
      "source": [
        "## 7. `for` Loops & iteration (≈6 min)\n"
      ],
      "id": "0PdtSFqVOeWQ"
    },
    {
      "cell_type": "markdown",
      "metadata": {
        "id": "RBX3WU7HOeWQ"
      },
      "source": [
        "**Instruction:**  \n",
        "1. Using a `for` loop, compute the sum of **even** numbers from 1 to 50 (inclusive).  \n",
        "2. Then build a list of squares for numbers 1..10 using a list comprehension.\n"
      ],
      "id": "RBX3WU7HOeWQ"
    },
    {
      "cell_type": "code",
      "execution_count": 18,
      "metadata": {
        "colab": {
          "base_uri": "https://localhost:8080/"
        },
        "id": "10cOTab5OeWQ",
        "outputId": "536610c7-348c-473f-a9b8-e7625dfb7c4f"
      },
      "outputs": [
        {
          "output_type": "stream",
          "name": "stdout",
          "text": [
            "0\n",
            "1\n",
            "4\n",
            "9\n",
            "16\n",
            "25\n",
            "36\n",
            "49\n",
            "64\n",
            "81\n",
            "[1, 4, 9, 16, 25, 36, 49, 64, 81, 100]\n"
          ]
        }
      ],
      "source": [
        "# TODO: implement based on the instructions above\n",
        "for num in range(10):\n",
        "  print(num**2)\n",
        "print([num**2 for num in range(1,11)])\n"
      ],
      "id": "10cOTab5OeWQ"
    },
    {
      "cell_type": "markdown",
      "metadata": {
        "id": "iWBEVPBSOeWQ"
      },
      "source": [
        "## 8. Functions (def, parameters, return) (≈8 min)\n"
      ],
      "id": "iWBEVPBSOeWQ"
    },
    {
      "cell_type": "markdown",
      "metadata": {
        "id": "7U7qYcs3OeWQ"
      },
      "source": [
        "**Instruction:**  \n",
        "Write a function `stats(nums)` that returns `(count, total, mean)` for a list of numbers.  \n",
        "Test it with `nums = [3, 5, 9, 10]`.  \n",
        "Then write `is_prime(n)` that returns `True`/`False` and test it for `n in [2, 15, 17]`.\n"
      ],
      "id": "7U7qYcs3OeWQ"
    },
    {
      "cell_type": "code",
      "execution_count": 12,
      "metadata": {
        "colab": {
          "base_uri": "https://localhost:8080/"
        },
        "id": "Gugzcaf8OeWQ",
        "outputId": "ade7087c-bab4-47ad-ca27-ab13b9d84921"
      },
      "outputs": [
        {
          "output_type": "execute_result",
          "data": {
            "text/plain": [
              "(4, 27, 6.75)"
            ]
          },
          "metadata": {},
          "execution_count": 12
        }
      ],
      "source": [
        "# TODO: implement based on the instructions above\n",
        "def stats(nums):\n",
        "  count = len(nums)\n",
        "  total = sum(nums)\n",
        "  mean = total/count\n",
        "  return count, total, mean\n",
        "\n",
        "nums = [3, 5, 9, 10]\n",
        "stats(nums)"
      ],
      "id": "Gugzcaf8OeWQ"
    },
    {
      "cell_type": "code",
      "source": [
        "y = stats(nums)\n",
        "print(y)"
      ],
      "metadata": {
        "colab": {
          "base_uri": "https://localhost:8080/"
        },
        "id": "dZoqeEMnRZTK",
        "outputId": "9e55ebf1-33fd-480e-ddf7-ec60d473e208"
      },
      "id": "dZoqeEMnRZTK",
      "execution_count": 13,
      "outputs": [
        {
          "output_type": "stream",
          "name": "stdout",
          "text": [
            "(4, 27, 6.75)\n"
          ]
        }
      ]
    },
    {
      "cell_type": "code",
      "source": [
        "def is_prime(n):\n",
        "  for i in range(2, n):\n",
        "    if n % i == 0:\n",
        "      return False\n",
        "  return True"
      ],
      "metadata": {
        "id": "bkYSVEBKIgNO"
      },
      "id": "bkYSVEBKIgNO",
      "execution_count": 21,
      "outputs": []
    },
    {
      "cell_type": "markdown",
      "metadata": {
        "id": "sdafDxwHOeWQ"
      },
      "source": [
        "## 9. Mini-Challenge: combine concepts (≈8 min)\n"
      ],
      "id": "sdafDxwHOeWQ"
    },
    {
      "cell_type": "markdown",
      "metadata": {
        "id": "jaOgyXHSOeWQ"
      },
      "source": [
        "**Instruction:**  \n",
        "**FizzBuzz-ish**  \n",
        "Write a function `label(n)` that returns:  \n",
        "- `\"fizzbuzz\"` if divisible by both 3 and 5,  \n",
        "- `\"fizz\"` if divisible by 3,  \n",
        "- `\"buzz\"` if divisible by 5, else the number as a string.  \n",
        "Use a `for` loop to print labels for 1..20 on one line.\n"
      ],
      "id": "jaOgyXHSOeWQ"
    },
    {
      "cell_type": "code",
      "execution_count": 24,
      "metadata": {
        "colab": {
          "base_uri": "https://localhost:8080/"
        },
        "id": "-MaIPO5dOeWQ",
        "outputId": "d7f827ec-fc0f-41df-b556-47e591b68751"
      },
      "outputs": [
        {
          "output_type": "stream",
          "name": "stdout",
          "text": [
            "1 2 fizz 4 buzz fizz 7 8 fizz buzz 11 fizz 13 14 fizzbuzz 16 17 fizz 19 buzz "
          ]
        }
      ],
      "source": [
        "# TODO: implement based on the instructions above\n",
        "def label(n):\n",
        "  if n % 3 == 0 and n % 5 == 0:\n",
        "    return \"fizzbuzz\"\n",
        "  elif n % 3 == 0:\n",
        "    return \"fizz\"\n",
        "  elif n % 5 == 0:\n",
        "    return \"buzz\"\n",
        "  else:\n",
        "    return str(n)\n",
        "for i in range(1, 21):\n",
        "    print(label(i), end=' ')"
      ],
      "id": "-MaIPO5dOeWQ"
    },
    {
      "cell_type": "markdown",
      "metadata": {
        "id": "UN5k-nCdOeWQ"
      },
      "source": [
        "### References\n",
        "- *Scipy Lecture Notes* — Python basics; control flow; functions\n",
        "- VanderPlas, *Python Data Science Handbook*, 2e — Language basics & Jupyter\n",
        "- McKinney, *Python for Data Analysis*, 2e — Python basics & control flow\n",
        "- Allen Downey, *Elements of Data Science* (online notebooks)\n"
      ],
      "id": "UN5k-nCdOeWQ"
    }
  ],
  "metadata": {
    "kernelspec": {
      "display_name": "Python 3",
      "language": "python",
      "name": "python3"
    },
    "language_info": {
      "name": "python",
      "version": "3.x"
    },
    "colab": {
      "provenance": []
    }
  },
  "nbformat": 4,
  "nbformat_minor": 5
}